{
 "cells": [
  {
   "attachments": {},
   "cell_type": "markdown",
   "id": "22005d91-7d01-4a3b-8d34-3dfd8099a602",
   "metadata": {},
   "source": [
    "# Series de tiempo estacionarias\n",
    "Tomando como referencia el segundo capítulo de la cuarta edición del libro de Enders, *Applied Econometric Time Series*, se hará un resumen de los principales modelos para series de tiempo estacionarias y la metodología Box-Jenkins.\n"
   ]
  },
  {
   "cell_type": "markdown",
   "id": "c0f5e790-b241-43bd-8680-2b7508fc9d04",
   "metadata": {},
   "source": [
    "## Librerías\n",
    "\n",
    "* **Pandas**: Manejo de *dataframes*.\n",
    "* **Numpy**: Manejo de varias funciones y estructuras matemáticas\n",
    "* **Matplotlib**: Gráficas.\n",
    "* **Statsmodels**: Herramientas para análisis de las series de tiempo."
   ]
  },
  {
   "cell_type": "code",
   "execution_count": 28,
   "id": "41dfe6b8-7200-4004-801f-1c06b1ea4370",
   "metadata": {},
   "outputs": [],
   "source": [
    "import pandas as pd\n",
    "import numpy as np\n",
    "import matplotlib.pyplot as plt\n",
    "import statsmodels\n",
    "\n",
    "from ipywidgets import interact, FloatSlider"
   ]
  },
  {
   "attachments": {},
   "cell_type": "markdown",
   "id": "cc9d76af",
   "metadata": {},
   "source": [
    "## Teoría"
   ]
  },
  {
   "attachments": {},
   "cell_type": "markdown",
   "id": "06119120",
   "metadata": {},
   "source": [
    "Las variables a utilizar son **discretas** y aleatorias. En particular, se trabajarán con secuencias aleatorias indexadas por $t$ (período $t$-ésimo). El concepto matemático detrás de toda la teoría es el de las *ecuaciones en diferencias estocásticas*."
   ]
  },
  {
   "attachments": {},
   "cell_type": "markdown",
   "id": "43ab2e16",
   "metadata": {},
   "source": [
    "Es fundamental introducir la noción de proceso de **ruido blanco**. Se dice que una secuencia $\\{\\varepsilon_t\\}$ es un proceso de **ruido blanco** si cada elemento en la secuencia tiene una media de cero, una varianza constante y no tiene correlación con otros elementos de la secuencia. Formalmente, para todo periodo $t$:\n",
    "\n",
    "$$\\begin{align*}\n",
    "\n",
    "E(\\varepsilon_t) &= E(\\varepsilon_{t-1}) =  \\cdots = 0\\\\\n",
    "V(\\varepsilon_t^2) &= V(\\varepsilon_{t-1}^2) =  \\cdots = \\sigma^2\\\\\n",
    "\\text{Cov}(\\varepsilon_t,\\varepsilon_{t-s})&= \\text{Cov}(\\varepsilon_{t-j},\\varepsilon_{t-s-j}) = 0 \\quad \\forall j,s\n",
    "\n",
    "\\end{align*}$$\n",
    "\n",
    "Una secuencia es llamada **autoregresiva de orden $p$**, simbolizado como $\\text{AR}(p)$, si tiene la siguiente forma:\n",
    "\n",
    "$$y_t = a_0 + \\sum_{i = 1}^p {a_iy_{t-i}} + \\varepsilon_t$$\n",
    "\n",
    "Por otro lado, una secuencia es llamada **media movil de orden $q$**, $\\text{MA}(q)$, si tiene la siguiente forma:\n",
    "\n",
    "$$x_t =  \\sum_{i = 0}^q {\\beta_i\\varepsilon_{t-i}}$$"
   ]
  },
  {
   "attachments": {},
   "cell_type": "markdown",
   "id": "799c8b6b",
   "metadata": {},
   "source": [
    "### Modelos ARMA\n",
    "Es posible combinar una ecuación en diferencias lineal de orden $p$ con un proceso de media móvil para obtener un modelo autorregresivo de media móvil (modelo $\\text{ARMA}$). Así, $y_t$ tendrá un modelo $\\text{ARMA}$ si:\n",
    "\n",
    "$$y_t = a_0 + \\sum_{i = 1}^p {a_iy_{t-i}} + \\sum_{i = 0}^q {\\beta_i\\varepsilon_{t-i}}$$\n",
    "\n",
    "En estos modelos, es válido dejar que $p$ y/o $q$ sean infinito.\n",
    "\n",
    "Es necesario tener en cuenta que, durante el desarrollo de toda esta teoría, se asume que las **raíces características del la ecuación en diferencias están dentro del círculo unitario**. Caso contrario, se dice que la secuencia está **integrada** y, entonces, se estaría hablando de un modelo **autorregresivo integrado de media móvil** $(\\text{ARIMA})$."
   ]
  },
  {
   "attachments": {},
   "cell_type": "markdown",
   "id": "427dd050",
   "metadata": {},
   "source": [
    "Solucionar un modelo $\\text{ARMA}$ significa expresar $y_t$ en términos de la secuencia $\\{\\varepsilon_t\\}$, como si se tratara de una ecuación lineal en diferencias estocásticas. Utilizando los [operadores de rezago](https://en.wikipedia.org/wiki/Lag_operator) para reescribir el modelo $\\text{ARMA}$ general:\n",
    "\n",
    "$$\\left(1 - \\sum_{i=1}^p a_iL^i\\right)y_t = a_0 + \\sum_{i=0}^q \\beta_i\\varepsilon_{t-i}$$\n",
    "\n",
    "Podemos hallar la solución *particular* (ya que la solución *complementaria* consiste en la combinación lineal de las raíces del polinomio característico elevado a la $t$):\n",
    "\n",
    "$$y_t^p = \\dfrac{a_0 + \\sum_{i=0}^q \\beta_i\\varepsilon_{t-i}}{\\left(1 - \\sum_{i=1}^p a_iL^i\\right)}$$\n",
    "\n",
    "Lo importante no es expandir la solución. Más bien, es necesario darse cuenta de que **expandir este resultado resultará en un proceso $\\text{MA}(\\infty)$**. El problema radica en **establecer si la expansión es convergente**.\n",
    "\n",
    "**Resultados importantes de la próxima sección**\n",
    "1. Condición de estabilidad: las raíces del polinomio $\\left(1 - \\sum_{i=1}^p a_iL^i\\right)$ deben caer fuera del círculo unitario.\n",
    "\n",
    "2. Si $y_t$ es una ecuación lineal en diferencias estocástica, la condición de estabilidad es una *condición necesaria* para la estacionariedad de la serie de tiempo $\\{y_t\\}$."
   ]
  },
  {
   "attachments": {},
   "cell_type": "markdown",
   "id": "5a6beca3",
   "metadata": {},
   "source": [
    "### Estacionariedad\n",
    "Normalmente, no es posible conseguir un *ensemble* (varias series de tiempo del mismo proceso en el mismo periodo). Lo que normalmente se tiene es solo una realización de una serien en particular. Afortunadamente, si $\\{y_t\\}$ es una serie **estacionaria**, ocurre algo maravilloso: ¡la media, varianza y las autocorrelaciones pueden ser aproximadas por series *suficientemente largas* basadas en **una sola realización** de dicha serie!\n",
    "\n",
    "Entonces decir, si sabemos que un proceso es estacionario, en vez de tratar de conseguir ocho realizaciones de una misma serie (es decir, ¡ocho series de un mismo proceso!), podemos utilizar la única realización que probablemente podamos conseguir (porque quizá es imposible ver ocho posibles valores del PBI para el año 2020 de la economía peruana) para aproximar el promedio:\n",
    "\n",
    "$$E(y_t) \\approx \\frac{1}{8}\\sum_{t=1}^8y_t$$\n",
    "\n",
    "Esta aproximación asume que el proceso estocástico es *débilmente estacionario*."
   ]
  },
  {
   "attachments": {},
   "cell_type": "markdown",
   "id": "595c9289",
   "metadata": {},
   "source": [
    "Formalmente, un proceso es débilmente estacionario si, para todo $t$, $s$ y $j$ posibles:\n",
    "\n",
    "$$\\begin{align*}\n",
    "\n",
    "E(y_t) &= E(y_{t-s}) =  \\mu\\\\\n",
    "V(y_t) &= V(t_{t-s}) =  \\sigma_y^2\\\\\n",
    "\\text{Cov}(y_t,y_{t-s})&= \\text{Cov}(y_{t-j},y_{t-s-j}) = \\gamma_s\n",
    "\n",
    "\\end{align*}$$\n",
    "\n",
    "En otras palabras, los dos primeros momentos poblacionales deben ser independientes del origen del tiempo.\n",
    "\n",
    "Al ver que en $s=0$ la autocovarianza es realmente la varianza del proceso, se define la *autocorrelación* entre $y_t$ y $y_{t-s}$ de la siguiente manera:\n",
    "\n",
    "$$\\rho_s \\equiv \\frac{\\gamma_s}{\\gamma_0} $$\n",
    "\n",
    "Como $\\gamma_s$ y $\\gamma_0$ son independientes del tiempo, los coeficientes $\\rho_s$ también son independientes del tiempo."
   ]
  },
  {
   "attachments": {},
   "cell_type": "markdown",
   "id": "12aa04c4",
   "metadata": {},
   "source": [
    "#### Restricción de estacionariedad para un proceso $\\text{AR}(1)$ \n",
    "\n",
    "Se analizarán las condiciones necesarias y suficientes para la estacionariedad de un proceso $\\text{AR}(1)$.\n",
    "\n",
    "$$y_t = a_0 + a_1y_{t-1} + \\varepsilon_t$$"
   ]
  },
  {
   "attachments": {},
   "cell_type": "markdown",
   "id": "f3533c3e",
   "metadata": {},
   "source": [
    "En el capítulo anterior, se demostró que la solución a esta ecuación es:\n",
    "\n",
    "$$y_t = a_0\\sum_{i=0}^{t-1}a_1^i + a_1^ty_0+\\sum_{i=0}^{t-1}a_1^i\\varepsilon_{t-i}$$\n",
    "\n",
    "Tomando el valor esperado de la ecuación anterior\n",
    "\n",
    "$$E(y_t) = a_0\\sum_{i=0}^{t-1}a_1^i + a_1^ty_0$$\n",
    "\n",
    "Adelantando $s$ periodos:\n",
    "\n",
    "$$E(y_{t+s}) = a_0\\sum_{i=0}^{t+s-1}a_1^i + a_1^{t+s}y_0$$\n",
    "\n",
    "Claramente, $y_t$ y $y_{t-s}$ no son independientes del orígen del tiempo, lo que implica que esta serie no es débilmente estacionaria. Sin embargo, ¿que pasaría si $t$ fuera *muy* grande y si $\\vert a_1 \\vert < 1$? Con ambas condiciones, podemos observar que es posible dejar que $t\\to\\infty$ y que la serie converja (es fácil ver que esta serie es, de hecho, una progresión geométrica). Así, cuando $t\\to\\infty$ y $\\vert a_1 \\vert < 1$\n",
    "\n",
    "$$\\lim_{t\\to \\infty}y_t = \\frac{a_0}{1-a_1} + \\sum_{i=0}^{\\infty}a_1^i\\varepsilon_{t-i}$$\n",
    "\n",
    "Verificando los momentos poblacionales de esta serie límite para todo $t$:\n",
    "\n",
    "* **Esperanza**\n",
    "\n",
    "$$E(y_t) = \\frac{a_0}{1-a_1}$$\n",
    "\n",
    "* **Varianza**\n",
    "\n",
    "$$V(y_t) = E\\left(\\sum_{i=0}^{\\infty}a_1^i\\varepsilon_{t-i}\\right) = E\\left(\\sum_{i=0}^{\\infty}({a_1}^2)^i\\varepsilon_{t-i}^2 + \\sum_{i<j}^{\\infty}{a_1}^{i+j}\\varepsilon_{t-i}\\varepsilon_{t-j}\\right) = \\sum_{i=0}^{\\infty}({a_1}^2)^iE\\left(\\varepsilon_{t-i}^2\\right) = \\frac{\\sigma^2}{1-a_1^2}$$\n",
    "\n",
    "* **Covarianzas**\n",
    "\n",
    "$$\\text{Cov}(y_t,y_{t-s}) \n",
    "= E\\left(\\sum_{i=0}^{\\infty}a_1^i\\varepsilon_{t-i}\\sum_{j=0}^{\\infty}a_1^j\\varepsilon_{t-s-j}\\right) \n",
    "= E\\left(\\sum_{i=0}^{\\infty}\\sum_{j=0}^{\\infty}{a_1}^{i+j}\\varepsilon_{t-i}\\varepsilon_{t-s-j} \\right)\n",
    "= E\\left(\\sum_{i=s}^{\\infty}\\sum_{j=0}^{\\infty}{a_1}^{i+j}\\varepsilon_{t-i}\\varepsilon_{t-s-j} \\right)\\\\\n",
    "= E\\left(\\sum_{j=0}^{\\infty}{a_1}^{s+2j}\\varepsilon_{t-s-j}^2 \\right)\n",
    "= a_1^s\\sum_{j=0}^{\\infty}{a_1}^{2j}E\\left(\\varepsilon_{t-s-j}^2\\right) = a_1^s\\frac{\\sigma^2}{1-a_1^2}$$"
   ]
  },
  {
   "attachments": {},
   "cell_type": "markdown",
   "id": "d1fe172c",
   "metadata": {},
   "source": [
    "Como se puede observar, **la secuencia límite es débilmente estacionaria**. Por eso se puede realizar la aproximación mencionada anteriormente si es que se tiene una cantidad de observaciones $t$ suficientemente grande.\n",
    "\n",
    "Por eso, si un proceso recién ha empezado, el proceso no sería estacionario (por eso se asume que el proceso de generación de datos empezó \"infinitamente antes\")."
   ]
  },
  {
   "attachments": {},
   "cell_type": "markdown",
   "id": "8062be7d",
   "metadata": {},
   "source": [
    "Si no hay condiciones iniciales, los resultados no cambian casi nada. Sin el valor de $y_0$\n",
    "\n",
    "$$y_t = \\frac{a_0}{1-a_1} + \\sum_{i=0}^\\infty a_1^i\\varepsilon_{t-i} + Aa_1^t$$\n",
    "\n",
    "Al tomar expectativas, se ve que la secuencia no puede ser estacionaria salvo que $Aa_1^t$ sea igual a zero. Para esto, el proceso ha debido de empezar infinitamente atrás o $A=0$, pero $A$ puede ser interpretada como una desviación del equilibrio de largo plazo. Así, las condiciones de estabilidad son las siguientes:\n",
    "\n",
    "1. La solución homogénea debe ser zero.\n",
    "\n",
    "2. El módulo de la raíz característica $a_1$ debe ser menor a uno. "
   ]
  },
  {
   "attachments": {},
   "cell_type": "markdown",
   "id": "016a069e",
   "metadata": {},
   "source": [
    "Esta lógica se puede generalizar para un modelo $\\text{ARMA}(p,q)$ general. La solución homogénea de este proceso tiene la siguiente forma:\n",
    "\n",
    "$$\\sum_{i=1}^p A_i\\alpha_i^t$$\n",
    "\n",
    "Si cualquier parte de la ecuación homogénea está presente, los momentos poblacionales serán dependientes del tiempo. Entonces:\n",
    "\n",
    "**Para cualquier modelo $\\text{ARMA}(p,q)$, la estacionariedad necesita que la solución homogénea sea igual a cero.**"
   ]
  },
  {
   "attachments": {},
   "cell_type": "markdown",
   "id": "8006eb35",
   "metadata": {},
   "source": [
    "### Restricciones de estacionariedad para un modelo $\\text{ARMA}(p,q)$\n",
    "\n",
    "**Si las raíces de la ecuación característica del modelo $\\text{ARMA}(p,q)$ caen dentro del círculo unitario y si la secuencia $\\{x_t\\}$ es estacionaria, entonces, la secuencia $\\{y_t\\}$ será estacionaria.**"
   ]
  },
  {
   "attachments": {},
   "cell_type": "markdown",
   "id": "2d7c66e8",
   "metadata": {},
   "source": [
    "#### Restricción para un modelo $\\text{ARMA}(2,1)$"
   ]
  },
  {
   "attachments": {},
   "cell_type": "markdown",
   "id": "78e246e0",
   "metadata": {},
   "source": [
    "Iniciemos considerando las restricciones para que un modelo $\\text{ARMA}(2,1)$ sea estacionario. Se ignorará el intercepto, pues no afecta a la estacionariedad. Así:\n",
    "$$y_t = a_1y_{t-1}+a_2y_{t-2}+\\varepsilon_t+\\beta_1\\varepsilon_{t-1}$$\n",
    "De la sección anterior, sabemos que la solución homogénea debe ser cero. Entonces, será necesario encontrar una solución particular. Si utilizamos el método de los [coeficientes indeterminados](https://tutorial.math.lamar.edu/classes/de/undeterminedcoefficients.aspx), nuestra solución de prueba sería\n",
    "$$y_t = \\sum_{i=0}^\\infty c_i\\varepsilon_{t-i}$$\n",
    "Entonces:\n",
    "$$\\begin{align*}\n",
    "\\sum_{i=0}^\\infty c_i\\varepsilon_{t-i} &= a_1\\sum_{i=0}^\\infty c_i\\varepsilon_{t-1-i} + a_2\\sum_{i=0}^\\infty c_i\\varepsilon_{t-2-i} + \\varepsilon_t + \\beta_1\\varepsilon_{t-1}\\\\\n",
    "c_0\\varepsilon_t + c_1\\varepsilon_{t-1}\\sum_{i=2}^\\infty c_i\\varepsilon_{t-i} &= \\varepsilon_t + (a_1c_0 + \\beta_1)\\varepsilon_{t-1} + \\sum_{i=2}^\\infty \\left( a_1c_{i-1}+a_2c_{i-2}\\right)\\varepsilon_{t-i}\n",
    "\\end{align*}$$\n",
    "Si igualamos los coeficientes, podemos ver que seguirán la siguiente ecuación, con $c_0 = 1$ y $c_1 = a_1c_0 + \\beta_1$:\n",
    "\n",
    "$$c_i = a_1c_{i-1} + a_2c_{i-2} \\ \\ \\forall i \\geq 2$$\n",
    "\n",
    "El punto clave es darse cuenta de que la ecuación en diferencias que sigue $c_i$ es la misma del proceso $\\text{ARMA}(2,1)$ original. Así, la secuencia $\\{c_i\\}$ es convergente."
   ]
  },
  {
   "attachments": {},
   "cell_type": "markdown",
   "id": "c5e62cab",
   "metadata": {},
   "source": [
    "¿Qué implica esto? Tomando el valor esperado de la solución $y_t$, podemos ver fácilmente que $E(y_t) =E(y_{t-s})=0$. La media es, entonces, finita y no depende del tiempo. Para la varianza,\n",
    "$$V(y_t)= E\\left(\\sum_{i=0}^\\infty c_i\\varepsilon_{t-i}\\right)^2=\\sum_{i=0}^\\infty c_i^2E\\left(\\varepsilon_{t-i}\\right) = \\sigma^2\\sum_{i=0}^\\infty c_i^2$$\n",
    "De acá, se desprende que $V(y_t)=V(y_{t-s})$. Finalmente, para las covarianzas,\n",
    "$$\\begin{align*}\n",
    "\\text{Cov}(y_t,y_{t-1}) &= E\\left(\\sum_{i=0}^\\infty c_i\\varepsilon_{t-i}\\sum_{j=0}^\\infty c_j\\varepsilon_{t-1-i}\\right) = E\\left(\\sum_{i=1}^\\infty c_ic_{i-1}\\varepsilon_{t-i}^2\\right) = \\sigma^2\\sum_{i=1}^\\infty c_ic_{i-1}\\\\\n",
    "\\text{Cov}(y_t,y_{t-2}) &= E\\left(\\sum_{i=0}^\\infty c_i\\varepsilon_{t-i}\\sum_{j=0}^\\infty c_j\\varepsilon_{t-2-i}\\right) = E\\left(\\sum_{i=2}^\\infty c_ic_{i-2}\\varepsilon_{t-i}^2\\right) = \\sigma^2\\sum_{i=1}^\\infty c_ic_{i-2}\\\\\n",
    "\\end{align*}$$\n",
    "$$\\vdots$$\n",
    "$$\\text{Cov}(y_t,y_{t-s}) = E\\left(\\sum_{i=0}^\\infty c_i\\varepsilon_{t-i}\\sum_{j=0}^\\infty c_j\\varepsilon_{t-s-i}\\right) = E\\left(\\sum_{i=s}^\\infty c_ic_{i-s}\\varepsilon_{t-i}^2\\right) = \\sigma^2\\sum_{i=s}^\\infty c_ic_{i-s}$$\n",
    "Así, la covarianza tampoco depende del tiempo. Todo esto se desprende del hecho de que la secuencia $\\{c_i\\}$ es convergente."
   ]
  },
  {
   "attachments": {},
   "cell_type": "markdown",
   "id": "5eefcc3c",
   "metadata": {},
   "source": [
    "#### Generalización a procesos $\\text{ARMA}(p,q)$ generales"
   ]
  },
  {
   "attachments": {},
   "cell_type": "markdown",
   "id": "9f368920",
   "metadata": {},
   "source": [
    "##### Restricciones para procesos $\\text{MA}$\n",
    "Las condiciones necesarias y suficientes para que un proceso $\\text{MA}(\\infty)$ sea débilmente estacionario es que:\n",
    "\n",
    "* La expresión $\\sum \\beta_i^2$ sea finita.\n",
    "* La expresión $\\sum \\beta_i\\beta_{i-s}$ sea finita."
   ]
  },
  {
   "attachments": {},
   "cell_type": "markdown",
   "id": "8d1be1f9",
   "metadata": {},
   "source": [
    "De esta manera, ya podemos ver cómo se podría generalizar este resultado a todos los modelos $\\text{ARMA}(p,q)$. Primero, consideremos las condiciones que aseguran la estacionariedad de un proceso $\\text{MA}(\\infty)$ (ya que este caso también abarca los procesos de media movil con orden finito).\n",
    "$$x_t = \\sum_{i=0}^{\\infty}\\beta_i\\varepsilon_{t-i}$$\n",
    "A pesar de que la secuencia $\\{\\varepsilon_t\\}$ es un proceso de ruido blanco, $\\{x_t\\}$ no lo es (debido a covarianzas distinta de cero). *Ahora, lo importante es determinar si es débilmente estacionario*.\n",
    "\n",
    "1. ¿Es la media finita e independiente del tiempo? \n",
    "\n",
    "$$E(x_t) = E\\left(\\sum_{i=0}^{\\infty}\\beta_i\\varepsilon_{t-i}\\right) = \\sum_{i=0}^{\\infty}\\beta_iE\\left(\\varepsilon_{t-i}\\right) = 0$$\n",
    "\n",
    "$$E(x_{t-s}) = E\\left(\\sum_{i=0}^{\\infty}\\beta_i\\varepsilon_{t-s-i}\\right) = \\sum_{i=0}^{\\infty}\\beta_iE\\left(\\varepsilon_{t-s-i}\\right) = 0$$\n",
    "\n",
    "Rpta: **Sí**.\n",
    "\n",
    "2. ¿Es la varianza finita e independiente del tiempo?\n",
    "\n",
    "$$V(x_t) = E\\left(\\sum_{i=0}^{\\infty}\\beta_i\\varepsilon_{t-i}\\right)^2 = \\sum_{i=0}^{\\infty}\\beta_i^2E\\left(\\varepsilon_{t-i}^2\\right) = \\sigma^2\\sum_{i=0}^{\\infty}\\beta_i^2$$\n",
    "\n",
    "$$V(x_{t-s}) = E\\left(\\sum_{i=0}^{\\infty}\\beta_i\\varepsilon_{t-s-i}\\right)^2 = \\sum_{i=0}^{\\infty}\\beta_i^2E\\left(\\varepsilon_{t-s-i}^2\\right) = \\sigma^2\\sum_{i=0}^{\\infty}\\beta_i^2$$\n",
    "\n",
    "Rpta: **Sí**. No olvidar que al ser $\\varepsilon_t$ un ruido blanco, sus covarianzas son iguales a cero.\n",
    "\n",
    "3. ¿Son todas las autocovarianzas finitas e independientes del tiempo?\n",
    "\n",
    "$$\\text{Cov}(x_t,x_{t-s}) = E\\left(\\sum_{i=0}^{\\infty}\\beta_i\\varepsilon_{t-i}\\sum_{j=0}^{\\infty}\\beta_j\\varepsilon_{t-s-j}\\right) = \\sum_{i=s}^{\\infty}\\beta_i\\beta_{i-s}E\\left(\\varepsilon_{t-i}^2\\right) = \\sigma^2\\sum_{i=s}^{\\infty}\\beta_i\\beta_{i-s}$$\n",
    "\n",
    "Rpta: **Sí**."
   ]
  },
  {
   "attachments": {},
   "cell_type": "markdown",
   "id": "14af03cb",
   "metadata": {},
   "source": [
    "**En resumen**\n",
    "Las condiciones necesarias y suficientes para que un proceso $\\text{MA}(\\infty)$ sea débilmente estacionario es que:\n",
    "\n",
    "* La expresión $\\sum \\beta_i^2$ sea finita.\n",
    "* La expresión $\\sum \\beta_i\\beta_{i-s}$ sea finita."
   ]
  },
  {
   "attachments": {},
   "cell_type": "markdown",
   "id": "c8665ff4",
   "metadata": {},
   "source": [
    "#### Restricciones para procesos $\\text{AR}$\n",
    "**Las raíces del polinomio característico deben tener módulo inferior a uno.**"
   ]
  },
  {
   "attachments": {},
   "cell_type": "markdown",
   "id": "6054da0c",
   "metadata": {},
   "source": [
    "Considerando un modelo puramente autorregresivo\n",
    "\n",
    "$$y_t = a_0 + \\sum_{i=1}^{p}a_iy_{t-i} + \\varepsilon_t$$\n",
    "\n",
    "Si todas las raíces características caen dentro del círculo unitario, la solución particular puede ser escrita como\n",
    "\n",
    "$$y_t = \\frac{a_0}{1-\\sum_{i=1}^pa_i} + \\sum_{i=0}^{\\infty}c_i\\varepsilon_{t-i}$$\n",
    "\n",
    "Ya sabemos que $c_i$ (los coeficientes indeterminados) se comportarán según la ecuación característica de la parte autorregresiva del modelo. Así, $\\{c_i\\}$ es convergente. Aunque la solución particular es un proceso $\\text{MA}(\\infty)$, ¡la convergencia de los coeficientes implica que la suma de los cuadrados es finito! Así, utilizando esta solución particular,\n",
    "\n",
    "$$E(y_t) = E(y_{t-s})=\\frac{a_0}{1-\\sum a_i}$$\n",
    "\n",
    "La media es finita e independiente del tiempo. Ahora, para la varianza:\n",
    "\n",
    "$$V(y_t) = E\\left(\\sum_{i=0}^{\\infty}c_i\\varepsilon_{t-i}\\right)^2 = \\sigma^2\\sum_{i=0}^{\\infty}c_i^2$$\n",
    "\n",
    "$$V(y_{t-s}) = E\\left(\\sum_{i=0}^{\\infty}c_i\\varepsilon_{t-s-i}\\right)^2 = \\sigma^2\\sum_{i=0}^{\\infty}c_i^2$$\n",
    "También se observa que es finita (pues $\\sum c_i^2$ es finita, ya que $\\{c_i\\}$ es convergente porque las raíces características están dentro del círculo unitario) e independiente del tiempo.\n",
    "\n",
    "Finalmente, para las covarianzas:\n",
    "$$\\text{Cov}(y_t,y_{t-s}) = E\\left(\\sum_{i=0}^{\\infty}c_i\\varepsilon_{t-i}\\sum_{j=0}^{\\infty}c_j\\varepsilon_{t-s-j}\\right) = \\sigma^2\\sum_{i=s}^{\\infty}c_ic_{i-s}$$\n",
    "Así, estas también son finitas e independientes del tiempo para todo $t$ y $t-s$.\n"
   ]
  },
  {
   "attachments": {},
   "cell_type": "markdown",
   "id": "d9c4e8b3",
   "metadata": {},
   "source": [
    "#### Restricción para el modelo $\\text{ARMA}$"
   ]
  },
  {
   "attachments": {},
   "cell_type": "markdown",
   "id": "c099a097",
   "metadata": {},
   "source": [
    "Una vez entendido todo esto, el siguiente paso, combinar el modelo $\\text{AR}$ con el modelo $\\text{MA}$, es trivial. De hecho, no hay casi ningún cambio respecto al análisis que se realizó antes.\n",
    "$$\\begin{align*}\n",
    "y_t &= a_0 + \\sum_{i=1}^p a_iy_{t-i} + x_t\\\\\n",
    "x_t &= \\sum_{i=0}^q \\beta_i\\varepsilon_{t-i}\n",
    "\\end{align*}$$\n",
    "\n",
    "**Si las raíces de la ecuación característica del modelo $\\text{ARMA}(p,q)$ caen dentro del círculo unitario y si la secuencia $\\{x_t\\}$ es estacionaria, entonces, la secuencia $\\{y_t\\}$ será estacionaria.**\n",
    "\n",
    "Basta considerar la solución particular del modelo:\n",
    "\n",
    "$$y_t = \\frac{a_0}{1-\\sum_{i=1}^pa_i} + \\frac{\\varepsilon_t}{1-\\sum_{i=1}^pa_iL^i} + \\frac{\\beta_1\\varepsilon_{t-1}}{1-\\sum_{i=1}^pa_iL^i}+\\frac{\\beta_2\\varepsilon_{t-2}}{1-\\sum_{i=1}^pa_iL^i}+\\cdots$$\n",
    "\n",
    "Como $\\{x_t\\}$ es estacionario, solo es necesario ver la parte autorregresiva del modelo. Pero esta parte será estacionaria si se cumple que las raíces de $1-\\sum_{i=1}^pa_i$ caen todas *fuera* del círculo unitario.\n",
    "\n",
    "Nota: recordar que, en cierto sentido, si $\\lambda$ es una raíz de la ecuación característica, entonces $\\frac{1}{\\lambda}$ es la raíz del polinomio de rezago."
   ]
  },
  {
   "attachments": {},
   "cell_type": "markdown",
   "id": "8c7c11d8",
   "metadata": {},
   "source": [
    "### La función de autocorrelación\n",
    "Herramienta importante para la elección del modelo adecuado según la metodología de Box-Jenkins"
   ]
  },
  {
   "attachments": {},
   "cell_type": "markdown",
   "id": "cfaeb517",
   "metadata": {},
   "source": [
    "#### Proceso $\\text{AR}(1)$"
   ]
  },
  {
   "attachments": {},
   "cell_type": "markdown",
   "id": "7cd16a4b",
   "metadata": {},
   "source": [
    "Como se ha observado, las primeras autocovarianzas del proceso $\\text{AR}(1)$ son las siguientes:\n",
    "$$\\begin{align*}\n",
    "\\gamma_0 &= \\frac{\\sigma^2}{1-a_1^2}\\\\\n",
    "\\gamma_s &= \\frac{\\sigma^2a_1^s}{1-a_1^2}\\\\\n",
    "\\therefore \\rho_s &= a_1^s\n",
    "\\end{align*}$$\n",
    "Se puede observar que la autocorrelación $\\rho_s$ exhibe un comportamiento de decaimiento exponencial. Esto es importante, pues **esta es una característica representativa de un proceso $\\text{AR}(1)$**.\n",
    "Para visualizar mejor este comportamiento, se realiza un **correlograma**, que simplemente es un *plot* de $\\rho_s$ con $s$."
   ]
  },
  {
   "cell_type": "code",
   "execution_count": 106,
   "id": "216e4268",
   "metadata": {},
   "outputs": [
    {
     "data": {
      "application/vnd.jupyter.widget-view+json": {
       "model_id": "2192dac5391a4cc0a0f7ed7e699e5103",
       "version_major": 2,
       "version_minor": 0
      },
      "text/plain": [
       "interactive(children=(FloatSlider(value=10.0, description='s', max=15.0, min=5.0, step=1.0), Output()), _dom_c…"
      ]
     },
     "metadata": {},
     "output_type": "display_data"
    }
   ],
   "source": [
    "# Ejemplo: Un proceso autoregresivo de primer órden con a1 = 0.7\n",
    "def plot_corr_ar1(s):\n",
    "    s = int(s)\n",
    "    plt.vlines(range(0,s+1), ymin = 0, ymax = [0.7 ** s for s in range(0,s+1)])\n",
    "    plt.hlines(xmin=0, xmax= s+0.5, y  = 0, colors = \"black\", linestyles= \"dashed\")\n",
    "    plt.plot(range(0,s+1), [0.7 ** i for i in range(0,s+1)], \"o\", markersize = 5, color = \"red\")\n",
    "    plt.xticks(range(0,s+1))\n",
    "    plt.title(\"Correlograma de un proceso AR(1)\")\n",
    "    plt.xlabel(\"Periodo\")\n",
    "    plt.ylabel(\"Autocorrelación\")\n",
    "\n",
    "interact(plot_corr_ar1, s=FloatSlider(min=5, max=15, step=1, value=10))\n",
    "plt.show()"
   ]
  },
  {
   "attachments": {},
   "cell_type": "markdown",
   "id": "351f7be1",
   "metadata": {},
   "source": [
    "#### Proceso $\\text{AR}(2)$\n",
    "Una técnica alternativa para hallar los coeficientes de autocorrelación es utilizar las ecuaciones de **Yule-Walker**. Asumiremos un proceso estable y autorregresivo de orden dos sin intercepto, pues no afecta la autocorrelación.\n",
    "\n",
    "$$y_t = a_1y_{t-1} + a_2y_{t-2}+\\varepsilon_t$$"
   ]
  },
  {
   "attachments": {},
   "cell_type": "markdown",
   "id": "5227e8c3",
   "metadata": {},
   "source": [
    "Estas ecuaciones consisten en empezar con el modelo inicial y multiplicar ambos lados por $y_t, y_{t-1},\\ldots,y_{t-s}$ para después poder tomar la esperanza .\n",
    "\n",
    "$$\\begin{align*}\n",
    "E(y_ty_t) &= a_1E(y_{t-1}y_t) + a_2E(y_{t-2}y_t) + E(\\varepsilon_ty_t)\\\\\n",
    "E(y_ty_{t-1}) &= a_1E(y_{t-1}y_{t-1}) + a_2E(y_{t-2}y_{t-1}) + E(\\varepsilon_ty_{t-1})\\\\\n",
    "E(y_ty_{t-2}) &= a_1E(y_{t-1}y_{t-2}) + a_2E(y_{t-2}y_{t-2}) + E(\\varepsilon_ty_{t-2})\n",
    "\\end{align*}$$\n",
    "$$\\vdots$$\n",
    "$$E(y_ty_{t-s}) = a_1E(y_{t-1}y_{t-s}) + a_2E(y_{t-2}y_{t-s}) + E(\\varepsilon_ty_{t-s})$$"
   ]
  },
  {
   "attachments": {},
   "cell_type": "markdown",
   "id": "0f3ef050",
   "metadata": {},
   "source": [
    "Las autocovarianzas de una serie estacionaria cumplen $E(y_ty_{t-s})=E(y_{t-k}y_{t-k-s})=\\gamma_s$. Se sabe también (por solo tener un rezago en los errores) que $E(\\varepsilon_ty_{t})=\\sigma^2$ y $E(\\varepsilon_ty_{t-s})=0$. Así, las ecuaciones restantes que se obtienen son\n",
    "$$\\begin{align*}\n",
    "\\gamma_0 &= a_1\\gamma_1 + a_2\\gamma_2 +\\sigma^2\\\\\n",
    "\\gamma_1 &= a_1\\gamma_0 + a_2\\gamma_1\\\\\n",
    "\\gamma_s &= a_1\\gamma_{s-1} + a_2\\gamma_{s-2} \\ \\ \\forall s \\geq 2\n",
    "\\end{align*}$$\n",
    "Dividiendo por $\\gamma_0$ se obtiene\n",
    "$$\\begin{align*}\n",
    "\\rho_1 &= a_1\\rho_0 + a_2\\rho_1\\\\\n",
    "\\rho_s &= a_1\\rho_{s-1} + a_2\\rho_{s-2} \\ \\ \\forall s \\geq 2\n",
    "\\end{align*}$$\n",
    "Como se puede observar, ¡todas las $\\rho_s$ se comportan según el polinomio característico del proceso $\\text{AR}(2)$!"
   ]
  },
  {
   "attachments": {},
   "cell_type": "markdown",
   "id": "5070e28d",
   "metadata": {},
   "source": [
    "**Ejemplo para el proceso $y_t = 0.7y_{t-1} - 0.49y_{t-2} + \\varepsilon_t$**"
   ]
  },
  {
   "cell_type": "code",
   "execution_count": 105,
   "id": "c5b371d6",
   "metadata": {},
   "outputs": [
    {
     "data": {
      "application/vnd.jupyter.widget-view+json": {
       "model_id": "589ba6727c8d40f0997cf27a30c380e4",
       "version_major": 2,
       "version_minor": 0
      },
      "text/plain": [
       "interactive(children=(FloatSlider(value=10.0, description='s', max=15.0, min=5.0, step=1.0), Output()), _dom_c…"
      ]
     },
     "metadata": {},
     "output_type": "display_data"
    }
   ],
   "source": [
    "def plot_corr_ar2(s):\n",
    "    s = int(s) + 1\n",
    "    a1 = 0.7\n",
    "    a2 = -0.49\n",
    "    r = [1, a1/(1-a2)]\n",
    "    for i in range(2,s):\n",
    "        r.append(a1*r[i-1]+a2*r[i-2])\n",
    "    plt.vlines(x = range(0,s) ,ymin = 0, ymax = r)\n",
    "    plt.plot(r, \"o\", markersize = 5, color = \"red\")\n",
    "    plt.hlines(xmin=0, xmax = s, y = 0, colors= \"black\", linestyle = \"dashed\")\n",
    "    plt.xticks(range(0,s))\n",
    "    plt.title(\"Correlograma de un proceso AR(2)\")\n",
    "    plt.xlabel(\"Periodo\")\n",
    "    plt.ylabel(\"Autocorrelación\")\n",
    "\n",
    "interact(plot_corr_ar2, s=FloatSlider(min=5, max=15, step=1, value=10))\n",
    "plt.show()"
   ]
  },
  {
   "attachments": {},
   "cell_type": "markdown",
   "id": "20603d2f",
   "metadata": {},
   "source": [
    "#### Proceso $\\text{MA}(1)$\n",
    "Los procesos $\\text{MA}(q)$ pueden identificarse muy fácilmente utilizando correlogramas, pues tienen un punto de corte después del período $q$."
   ]
  },
  {
   "attachments": {},
   "cell_type": "markdown",
   "id": "e47a0922",
   "metadata": {},
   "source": [
    "Asumiendo un modelo $\\text{MA}(1)$, se pueden hallar las ecuaciones de Yule-Walker como antes.\n",
    "$$\\begin{align*}\n",
    "\\gamma_0 &= E(y_ty_t) = E\\left(\\left(\\varepsilon_{t} + \\beta\\varepsilon_{t-1}\\right)\\left(\\varepsilon_{t} + \\beta\\varepsilon_{t-1}\\right)\\right) = (1+\\beta^2)\\sigma^2\\\\\n",
    "\\gamma_1 &= E(y_ty_{t-1}) = E\\left(\\left(\\varepsilon_{t} + \\beta\\varepsilon_{t-1}\\right)\\left(\\varepsilon_{t-1} + \\beta\\varepsilon_{t-2}\\right)\\right) = \\beta\\sigma^2\\\\\n",
    "\\gamma_s &= E(y_ty_{t-s}) = E\\left(\\left(\\varepsilon_{t} + \\beta\\varepsilon_{t-1}\\right)\\left(\\varepsilon_{t-s} + \\beta\\varepsilon_{t-s-1}\\right)\\right) = 0 \\ \\forall s \\geq 2\n",
    "\\end{align*}$$\n",
    "Es sencillo ver que las autocorrelaciones tienen un corte después del primer rezago. Realmente, las autocorrelaciones de un proceso $\\text{MA}(q)$ tienen un corte después de $q$ rezagos."
   ]
  },
  {
   "cell_type": "code",
   "execution_count": 109,
   "id": "e9efbf7e",
   "metadata": {},
   "outputs": [
    {
     "data": {
      "application/vnd.jupyter.widget-view+json": {
       "model_id": "f21426f3c50a431197753485ac8b0306",
       "version_major": 2,
       "version_minor": 0
      },
      "text/plain": [
       "interactive(children=(FloatSlider(value=6.0, description='s', max=8.0, min=3.0, step=1.0), Output()), _dom_cla…"
      ]
     },
     "metadata": {},
     "output_type": "display_data"
    }
   ],
   "source": [
    "def plot_corr_ma1(s):\n",
    "    s = int(s) + 1\n",
    "    b1 = 0.7\n",
    "    r = [1, b1/(1+(b1**2))]\n",
    "    for i in range(2,s):\n",
    "        r.append(0)\n",
    "    plt.vlines(x = range(0,s) ,ymin = 0, ymax = r)\n",
    "    plt.plot(r, \"o\", markersize = 5, color = \"red\")\n",
    "    plt.hlines(xmin=0, xmax = s, y = 0, colors= \"black\", linestyle = \"dashed\")\n",
    "    plt.xticks(range(0,s))\n",
    "    plt.title(\"Correlograma de un proceso MA(1)\")\n",
    "    plt.xlabel(\"Periodo\")\n",
    "    plt.ylabel(\"Autocorrelación\")\n",
    "\n",
    "interact(plot_corr_ma1, s=FloatSlider(min=3, max=8, step=1, value=6))\n",
    "plt.show()"
   ]
  },
  {
   "attachments": {},
   "cell_type": "markdown",
   "id": "09a921b5",
   "metadata": {},
   "source": [
    "#### Proceso $\\text{ARMA}(1,1)$\n",
    "En general, para un proceso $\\text{ARMA}(p,q)$, luego de $q$ rezagos (porque hacen falta $q$ rezagos para que la parte $\\text{MA}(q)$ deje de fastidiar ya que sería cero), las autocorrelaciones se comportan como el polinomio característico indicaría."
   ]
  },
  {
   "attachments": {},
   "cell_type": "markdown",
   "id": "483a3486",
   "metadata": {},
   "source": [
    "Teniendo el modelo\n",
    "$$y_t = a_1y_{t-1} + \\varepsilon_t + \\beta_1\\varepsilon_{t-1}$$\n",
    "Realizamos el mismo procedimiento de antes para obtener las ecuaciones Yule-Walker.\n",
    "$$\\begin{align*}\n",
    "E(y_ty_t) = a_1E(y_{t-1}y_t) + E(\\varepsilon_{t}y_t) + \\beta_1E(\\varepsilon_{t-1}y_t) &\\implies \\gamma_0 = a_1\\gamma_1 + \\sigma^2 + \\beta_1(a_1+\\beta_1)\\sigma^2\\\\\n",
    "E(y_ty_{t-1}) = a_1E(y_{t-1}y_{t-1}) + E(\\varepsilon_{t}y_{t-1}) + \\beta_1E(\\varepsilon_{t-1}y_{t-1}) &\\implies \\gamma_1 = a_1\\gamma_0 + \\beta_1(a_1+\\beta_1)\\sigma^2\\\\\n",
    "E(y_ty_{t-2}) = a_1E(y_{t-1}y_{t-2}) + E(\\varepsilon_{t}y_{t-2}) + \\beta_1E(\\varepsilon_{t-1}y_{t-2}) &\\implies \\gamma_2 = a_1\\gamma_1\\\\\\vdots\\\\\n",
    "E(y_ty_{t-s}) = a_1E(y_{t-1}y_{t-s}) + E(\\varepsilon_{t}y_{t-s}) + \\beta_1E(\\varepsilon_{t-1}y_{t-s}) &\\implies \\gamma_s = a_1\\gamma_{s-1}\\end{align*}$$\n",
    "Si bien las expresiones serán complicadas, después del primer rezago se puede observar que las autocorrelaciones se comportarán como las de un proceso $\\text{AR}(1)$."
   ]
  },
  {
   "attachments": {},
   "cell_type": "markdown",
   "id": "11d11691",
   "metadata": {},
   "source": [
    "**Ejemplo para el proceso $y_t = -0.7y_{t-1} + \\varepsilon_t - 0.7\\varepsilon_{t-1}$**"
   ]
  },
  {
   "cell_type": "code",
   "execution_count": 114,
   "id": "3453b0f0",
   "metadata": {},
   "outputs": [
    {
     "data": {
      "application/vnd.jupyter.widget-view+json": {
       "model_id": "be0ffdfb0374494397baeb2d396eaa1e",
       "version_major": 2,
       "version_minor": 0
      },
      "text/plain": [
       "interactive(children=(FloatSlider(value=10.0, description='s', max=15.0, min=5.0, step=1.0), Output()), _dom_c…"
      ]
     },
     "metadata": {},
     "output_type": "display_data"
    }
   ],
   "source": [
    "def plot_corr_ar1ma1(s):\n",
    "    s = int(s) + 1\n",
    "    a1 = -0.7\n",
    "    b1 = -0.7\n",
    "    r = [1, ((1+a1*b1)*(a1+b1))/(1+(b1**2)+2*a1*b1)]\n",
    "    for i in range(2,s):\n",
    "        r.append(a1*r[i-1])\n",
    "    plt.vlines(x = range(0,s) ,ymin = 0, ymax = r)\n",
    "    plt.plot(r, \"o\", markersize = 5, color = \"red\")\n",
    "    plt.hlines(xmin=0, xmax = s, y = 0, colors= \"black\", linestyle = \"dashed\")\n",
    "    plt.xticks(range(0,s))\n",
    "    plt.title(\"Correlograma de un proceso ARMA(1,1)\")\n",
    "    plt.xlabel(\"Periodo\")\n",
    "    plt.ylabel(\"Autocorrelación\")\n",
    "\n",
    "interact(plot_corr_ar1ma1, s=FloatSlider(min=5, max=15, step=1, value=10))\n",
    "plt.show()"
   ]
  },
  {
   "attachments": {},
   "cell_type": "markdown",
   "id": "a085098b",
   "metadata": {},
   "source": [
    "En general, un proceso $\\text{ARMA}(p,q)$ tendrá las siguientes ecuaciones de Yule-Walker después del rezago $q$:\n",
    "$$\\rho_i = \\sum_{j=1}^pa_j\\rho_{i-j}$$\n",
    "Las autocorrelaciones anteriores a este rezago se pueden tratar como condiciones iniciales."
   ]
  },
  {
   "attachments": {},
   "cell_type": "markdown",
   "id": "a136d6e2",
   "metadata": {},
   "source": [
    "### La función de autocorrelación parcial\n",
    "Otra herramienta importante para la elección del modelo adecuado según la metodología de Box-Jenkins."
   ]
  },
  {
   "attachments": {},
   "cell_type": "markdown",
   "id": "520cab01",
   "metadata": {},
   "source": [
    "En un proceso $\\text{AR}(1)$, $y_t$ y $y_{t-2}$ están correlacionados, aunque no de manera directa. Esto se debe a que $y_t$ y $y_{t-1}$ están correlacionados, pero $y_{t-1}$ y $y_{t-2}$ también están correlacionados. Así, estas *correlaciones indirectas* siempre están presentes en la función de autocorrelación de cualquier proceso autorregresivo.\n",
    "\n",
    "La **autocorrelación parcial** entre $y_t$ y $y_{t-s}$, simbolizada como $\\phi_{ss}$, controla todos estos efectos indirectos.\n",
    "\n",
    "**Cálculo de la autocorrelación parcial**\n",
    "\n",
    "Primero, se forma la serie $\\{y_t^*\\}$ restando la media de la serie original ($\\mu$) con cada observación para obtener $y_t^* \\equiv y_t - \\mu$\n",
    "\n",
    "Luego, se genera la siguiente regresión:\n",
    "$$y_t^* = \\phi_{11}y_{t-1}^*+e_t$$\n",
    "El coeficiente $\\phi_{11}$ será la autocorrelación parcial (y también la otra porque no hay otros términos). Nota: $e_t$ no tiene por qué ser ruido blanco.\n",
    "\n",
    "Si se genera otra regresión, pero de orden 2:\n",
    "$$y_t^* = \\phi_{21}y_{t-1}^*+ \\phi_{22}y_{t-2}^*+e_t$$\n",
    "Ahora $\\phi_{22}$ sería la autocorrelación parcial entre $y_t$ y $y_{t-2}$, ya que controla los efectos de $y_{t-1}$. Así, se puede obtener la $s$-ésima autocorrelación parcial (ya que estas regresiones controlan los efectos del resto de rezagos)."
   ]
  },
  {
   "attachments": {},
   "cell_type": "markdown",
   "id": "0194c064",
   "metadata": {},
   "source": [
    "Como observación adicional, se debe observar que es posible obtener las autocorrelaciones parciales utilizando un método recursivo basado en las ecuaciones de Yule-Walker.\n",
    "$$\\begin{align*}\n",
    "\\phi_{11} &= \\rho_1\\\\\n",
    "\\phi_{22} &= \\dfrac{(\\rho_2-\\rho_1^2)}{(1-\\rho_1^2)}\\\\\n",
    "\\phi_{ss} &= \\dfrac{\\rho_s-\\sum_{j=1}^{s-1}\\phi_{s-1,j}\\rho_{s-j}}{1-\\sum_{j=1}^{s-1}\\phi_{s-1,j}\\rho_j}\n",
    "\\end{align*}$$\n",
    "En donde $\\phi_{sj} = \\phi_{s-1,j}-\\phi_{ss}\\phi_{s-1,s-j}$ para todo $j = 1,2,3,\\ldots,s-1$"
   ]
  },
  {
   "attachments": {},
   "cell_type": "markdown",
   "id": "4336988b",
   "metadata": {},
   "source": [
    "Para un proceso $\\text{AR}(p)$, no hay correlación directa entre $y_t$ y $y_{t-s}$ para $s>p$. Entonces,después de $p$ rezagos, la PACF tiene un corte y es igual a cero.\n",
    "\n",
    "Por otro lado, para un proceso $\\text{MA}(1)$, si se tiene que $y_t = \\varepsilon_t + \\beta_t\\varepsilon_{t-1}$, podríamos reescribir el modelo utilizando polinomios de rezagos y luego invertirlo para hallar la representación $\\text{AR}(\\infty)$ siempre que $\\beta \\neq -1$\n",
    "\n",
    "$$y_t - \\beta y_{t-1} + \\beta^2 y_{t-2} - \\beta^3 y_{t-3} + \\ldots = \\varepsilon_t$$\n",
    "\n",
    "Como se logra observar, no hay un corte hacia cero en este tipo de procesos para el PACF, sino un decaimiento exponencial. La autocorrelación parcial se comporta como los coeficientes del polinomio de rezago $\\left(1+\\beta L\\right)^{-1}$.\n",
    "\n",
    "Así, el PACF de un proceso estacionario $\\text{ARMA}(p,q)$ va a tender a cero después del rezago $p$, pues la parte $\\text{AR}(p)$ dejará de molestar ya que su autocorrelación tomará un valor igual a cero. Como se observó para el proceso $\\text{MA}(1)$, el patrón de decaimiento será explicado por los coeficientes del polinomio $\\left(1+\\beta_1 L +\\beta_2 L^2 + \\ldots + +\\beta_q L^q\\right)^{-1}$."
   ]
  },
  {
   "attachments": {},
   "cell_type": "markdown",
   "id": "cc3cfa10",
   "metadata": {},
   "source": [
    "## Práctica"
   ]
  },
  {
   "cell_type": "code",
   "execution_count": 3,
   "id": "d7c79bac-0283-4216-be64-d9c79dd1685c",
   "metadata": {},
   "outputs": [],
   "source": [
    "df = pd.read_csv(\"../Data/quarterly(2012).csv\", sep = \";\")\n",
    "df.DATE = pd.to_datetime(df.DATE).dt.to_period(\"Q\")"
   ]
  },
  {
   "cell_type": "code",
   "execution_count": 4,
   "id": "92ed7c8d",
   "metadata": {},
   "outputs": [
    {
     "data": {
      "image/png": "[encoded data removed]",
      "text/plain": [
       "<Figure size 1600x500 with 1 Axes>"
      ]
     },
     "metadata": {},
     "output_type": "display_data"
    }
   ],
   "source": [
    "plt.figure(figsize=(16, 5))\n",
    "plt.title(\"Spread de la tasa de interés\")\n",
    "plt.plot_date(df['DATE'],df['Tb3mo'],\"-\")\n",
    "plt.show()"
   ]
  }
 ],
 "metadata": {
  "kernelspec": {
   "display_name": "Python 3",
   "language": "python",
   "name": "python3"
  },
  "language_info": {
   "codemirror_mode": {
    "name": "ipython",
    "version": 3
   },
   "file_extension": ".py",
   "mimetype": "text/x-python",
   "name": "python",
   "nbconvert_exporter": "python",
   "pygments_lexer": "ipython3",
   "version": "3.11.1"
  },
  "vscode": {
   "interpreter": {
    "hash": "b24f0fb2e669aa7582cb3239761f571f236a7e414cdbc327f8ed4d1b1bf7841f"
   }
  }
 },
 "nbformat": 4,
 "nbformat_minor": 5
}
